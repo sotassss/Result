{
 "cells": [
  {
   "cell_type": "markdown",
   "metadata": {},
   "source": [
    "⚫️ 課題 2\n",
    "　　ソフトマックス回帰の実装\n"
   ]
  },
  {
   "cell_type": "code",
   "execution_count": 1,
   "metadata": {},
   "outputs": [],
   "source": [
    "# モジュールのインポート\n",
    "\n",
    "import numpy as np\n",
    "import matplotlib.pyplot as plt\n",
    "from sklearn.datasets import load_digits\n",
    "from sklearn.model_selection import train_test_split"
   ]
  },
  {
   "cell_type": "code",
   "execution_count": 5,
   "metadata": {},
   "outputs": [],
   "source": [
    "# 学習データとテストデータの分割\n",
    "\n",
    "digits = load_digits()\n",
    "x_train, x_test, y_train, y_test = train_test_split(\n",
    "    digits.data, digits.target, test_size=0.2, random_state=0\n",
    ")\n",
    "n_train, n_feature = x_train.shape\n",
    "n_test, n_feature = x_test.shape"
   ]
  },
  {
   "cell_type": "code",
   "execution_count": 6,
   "metadata": {},
   "outputs": [],
   "source": [
    "# softmax関数の定義\n",
    "\n",
    "\n",
    "def softmax(z, axis=1):\n",
    "    max_value = np.max(z, axis=axis, keepdims=True)\n",
    "    z = z - max_value  # オーバーフロー対策\n",
    "    exp_z = np.exp(z)\n",
    "    sum_exp_z = np.sum(exp_z, axis=axis, keepdims=True)\n",
    "    return exp_z / sum_exp_z"
   ]
  },
  {
   "cell_type": "code",
   "execution_count": 7,
   "metadata": {},
   "outputs": [],
   "source": [
    "# softmax回帰モデル\n",
    "\n",
    "\n",
    "class Softmax_regression:\n",
    "    def __init__(self, learning_rate, epoch):\n",
    "        self.learning_rate = learning_rate\n",
    "        self.epoch = epoch\n",
    "        self.weights = None\n",
    "        self.bias = None\n",
    "\n",
    "    def fit(self, X, y):\n",
    "        n_classes = len(np.unique(y_train))\n",
    "\n",
    "        self.weights = np.zeros((n_feature, n_classes))\n",
    "        self.bias = np.zeros((1, n_classes))\n",
    "\n",
    "        for _ in range(self.epoch):\n",
    "            z = np.dot(X, self.weights) + self.bias\n",
    "            prob = softmax(z)\n",
    "\n",
    "            one_hot_target = np.zeros_like(prob)\n",
    "            one_hot_target[range(X.shape[0]), y] = 1\n",
    "            error = prob - one_hot_target\n",
    "\n",
    "            self.weights -= self.learning_rate * np.dot(X.T, error)\n",
    "            self.bias -= self.learning_rate * np.sum(error, axis=0, keepdims=True)\n",
    "\n",
    "    def predict(self, X):\n",
    "        z = np.dot(X, self.weights) + self.bias\n",
    "        prob = softmax(z)\n",
    "        return np.argmax(prob, axis=1)"
   ]
  },
  {
   "cell_type": "code",
   "execution_count": 8,
   "metadata": {},
   "outputs": [
    {
     "name": "stdout",
     "output_type": "stream",
     "text": [
      "モデル：Softmax_regression\n",
      "----------------------------------------------------\n",
      "クラス名    precision   recall    f_measure  accuracy\n",
      "クラス0   :   1.00       1.00       1.00       1.00\n",
      "クラス1   :   0.84       0.91       0.88       0.97\n",
      "クラス2   :   0.97       0.94       0.96       0.99\n",
      "クラス3   :   0.94       1.00       0.97       0.99\n",
      "クラス4   :   0.94       0.97       0.95       0.99\n",
      "クラス5   :   0.97       0.95       0.96       0.99\n",
      "クラス6   :   0.96       0.98       0.97       0.99\n",
      "クラス7   :   0.95       0.95       0.95       0.99\n",
      "クラス8   :   1.00       0.87       0.93       0.99\n",
      "クラス9   :   0.93       0.93       0.93       0.98\n"
     ]
    }
   ],
   "source": [
    "# テストデータを用いた学習、モデル性能の評価\n",
    "\n",
    "model = Softmax_regression(learning_rate=0.01, epoch=100)\n",
    "model.fit(x_train, y_train)\n",
    "\n",
    "predict = model.predict(x_test)\n",
    "\n",
    "print(\"モデル：Softmax_regression\")\n",
    "print(\"----------------------------------------------------\")\n",
    "print(f\"クラス名    precision   recall    f_measure  accuracy\")\n",
    "for i in range(10):\n",
    "    TP_i = np.sum((predict == i) & (y_test == i))\n",
    "    TN_i = np.sum((predict != i) & (y_test != i))\n",
    "    FP_i = np.sum((predict == i) & (y_test != i))\n",
    "    FN_i = np.sum((predict != i) & (y_test == i))\n",
    "    precision_i = TP_i / (TP_i + FP_i)\n",
    "    recall_i = TP_i / (TP_i + FN_i)\n",
    "    f_measure_i = (2 * precision_i * recall_i) / (precision_i + recall_i)\n",
    "    accuracy_i = (TP_i + TN_i) / (TP_i + TN_i + FP_i + FN_i)\n",
    "    print(\n",
    "        f\"クラス{i}   :   {precision_i:.2f}       {recall_i:.2f}       {f_measure_i:.2f}       {accuracy_i:.2f}\"\n",
    "    )"
   ]
  },
  {
   "cell_type": "code",
   "execution_count": 53,
   "metadata": {},
   "outputs": [
    {
     "name": "stdout",
     "output_type": "stream",
     "text": [
      "              precision    recall  f1-score   support\n",
      "\n",
      "           0       1.00      1.00      1.00        27\n",
      "           1       0.84      0.91      0.88        35\n",
      "           2       0.97      0.94      0.96        36\n",
      "           3       0.94      1.00      0.97        29\n",
      "           4       0.94      0.97      0.95        30\n",
      "           5       0.97      0.95      0.96        40\n",
      "           6       0.96      0.98      0.97        44\n",
      "           7       0.95      0.95      0.95        39\n",
      "           8       1.00      0.87      0.93        39\n",
      "           9       0.93      0.93      0.93        41\n",
      "\n",
      "    accuracy                           0.95       360\n",
      "   macro avg       0.95      0.95      0.95       360\n",
      "weighted avg       0.95      0.95      0.95       360\n",
      "\n"
     ]
    }
   ],
   "source": [
    "# (確認)ライブラリを用いたモデル評価\n",
    "from sklearn.metrics import classification_report\n",
    "\n",
    "print(classification_report(y_test, predict))"
   ]
  }
 ],
 "metadata": {
  "kernelspec": {
   "display_name": "base",
   "language": "python",
   "name": "python3"
  },
  "language_info": {
   "codemirror_mode": {
    "name": "ipython",
    "version": 3
   },
   "file_extension": ".py",
   "mimetype": "text/x-python",
   "name": "python",
   "nbconvert_exporter": "python",
   "pygments_lexer": "ipython3",
   "version": "3.9.6"
  }
 },
 "nbformat": 4,
 "nbformat_minor": 2
}
